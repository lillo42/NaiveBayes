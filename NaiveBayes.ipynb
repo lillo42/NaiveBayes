{
 "cells": [
  {
   "cell_type": "code",
   "execution_count": 1,
   "metadata": {
    "collapsed": true
   },
   "outputs": [],
   "source": [
    "import os.path\n",
    "import random"
   ]
  },
  {
   "cell_type": "markdown",
   "metadata": {},
   "source": [
    "Criação da classe LabelAndFeatures, ela é responsavel por armazenar os valores da Label e das fetaures"
   ]
  },
  {
   "cell_type": "code",
   "execution_count": 2,
   "metadata": {
    "collapsed": false
   },
   "outputs": [],
   "source": [
    "class LabelAndFeatures:    \n",
    "    label = None\n",
    "    features = []\n",
    "    def __init__(self, label, features):\n",
    "        \"\"\"Construtor da classe\n",
    "            Arg:\n",
    "                label: label da classe\n",
    "                features (list): lista de features que representam aquele objeto\n",
    "        \"\"\"\n",
    "        self.label = label\n",
    "        self.features = features\n",
    "        return"
   ]
  },
  {
   "cell_type": "markdown",
   "metadata": {},
   "source": [
    "Criação da classe NaivesBayes, ela é responsavel por Executar o NaiveBayes"
   ]
  },
  {
   "cell_type": "code",
   "execution_count": 30,
   "metadata": {
    "collapsed": true
   },
   "outputs": [],
   "source": [
    "class NaiveBayes:\n",
    "    __tamanhoTreino = 0\n",
    "    __treino = []\n",
    "    __dicPA  = {}\n",
    "    __dictPx = {}\n",
    "    \n",
    "    def __init__(self):\n",
    "        return\n",
    "    \n",
    "    def Treino(self, treino):\n",
    "        \"\"\"Atribui a lista de treino ao NaiveBayes e faz o calculo da probabilidade apriori\n",
    "        \"\"\"\n",
    "        self.__treino = treino\n",
    "        self.__tamanhoTreino = len(self.__treino)\n",
    "        \n",
    "        self.__PreCalculaPA()\n",
    "        self.__CalculaPx()\n",
    "        return\n",
    "    \n",
    "    def __PreCalculaPA(self):\n",
    "        self.__dicPA = {}\n",
    "        quantidadeFeatures = self.__AchaMaiorQuantidadeDeFeatures()\n",
    "        for i in range(quantidadeFeatures):\n",
    "            for lb in self.__treino:\n",
    "                if len(lb.features) <= i:\n",
    "                    pass  \n",
    "                key = (i, lb.features[i])\n",
    "                if not self.__dicPA.has_key(key):\n",
    "                    self.__dicPA[key] = 0\n",
    "                self.__dicPA[key] += (1/float(self.__tamanhoTreino))\n",
    "        return\n",
    "    \n",
    "    def __AchaMaiorQuantidadeDeFeatures(self):\n",
    "        retorno = 0\n",
    "        for x in self.__treino:\n",
    "            if len(x.features) > retorno:\n",
    "                retorno = len(x.features)\n",
    "        return retorno\n",
    "    \n",
    "    def __CalculaPx(self):\n",
    "        self.__dictPx = {}\n",
    "        for x in self.__treino:\n",
    "            if not  self.__dictPx.has_key(x.label):\n",
    "                self.__dictPx[x.label] = 0\n",
    "            self.__dictPx[x.label] += (1/float(self.__tamanhoTreino))\n",
    "        return\n",
    "    \n",
    "    def Predicao(self, objetoDesconhecido, mostraValores = False):\n",
    "        maxClassificao = (\"0\",0)\n",
    "        for key in self.__dictPx.keys():\n",
    "            PAix = self.__CalculaPAix(objetoDesconhecido,key)\n",
    "            PAi = self.__CalculaPAi(objetoDesconhecido)\n",
    "            Px = self.__dictPx[key]\n",
    "            PxAi = ((PAix * Px) /float(PAi))\n",
    "            \n",
    "            if mostraValores:\n",
    "                print 'Key:' + str(key)\n",
    "                print '\\t Px: ' + str(Px)\n",
    "                print '\\t PAix: ' + str(PAix)\n",
    "                print '\\t PAi: ' + str(PAi)\n",
    "                print '\\t Conta(P(Ai|x)*P(x)/P(Ai)): ((' + str(Px) + 'x' + str(PAix) + ')/' + str(PxAi) + ')'\n",
    "                print '\\t Resultado: (P(Ai|x)*P(x)/P(Ai)): ' + str(PxAi)\n",
    "            \n",
    "            if maxClassificao[1] < PxAi:\n",
    "                maxClassificao = (key,PxAi)\n",
    "        return maxClassificao[0]\n",
    "    \n",
    "    def __CalculaPAix(self, objetoDesconhecido, key):\n",
    "        retorno = 1\n",
    "        treinoFiltro = [x for x in self.__treino if x.label == key]\n",
    "        quantidadeTreioFiltro = len(treinoFiltro)\n",
    "        for i in range(len(objetoDesconhecido.features)):\n",
    "            quantidadePorFeature = len([x for x in treinoFiltro \n",
    "                                        if len(x.features) > i and x.features[i] == objetoDesconhecido.features[i]])\n",
    "            retorno *= (quantidadePorFeature/float(quantidadeTreioFiltro))\n",
    "        return retorno\n",
    "    \n",
    "    def __CalculaPAi(self, objetoDesconhecido):\n",
    "        retorno = 1\n",
    "        for i in range(len(objetoDesconhecido.features)):\n",
    "            retorno *= self.__dicPA[i,objetoDesconhecido.features[i]]\n",
    "        return retorno"
   ]
  },
  {
   "cell_type": "code",
   "execution_count": 32,
   "metadata": {
    "collapsed": false
   },
   "outputs": [
    {
     "name": "stdout",
     "output_type": "stream",
     "text": [
      "Classificando objeto 1:\n",
      "Key:seguro\n",
      "\t Px: 0.642857142857\n",
      "\t PAix: 0.0438957475995\n",
      "\t PAi: 0.0612244897959\n",
      "\t Conta(P(Ai|x)*P(x)/P(Ai)): ((0.642857142857x0.0438957475995)/0.460905349794)\n",
      "\t Resultado: (P(Ai|x)*P(x)/P(Ai)): 0.460905349794\n",
      "Key:perigoso\n",
      "\t Px: 0.357142857143\n",
      "\t PAix: 0.0768\n",
      "\t PAi: 0.0612244897959\n",
      "\t Conta(P(Ai|x)*P(x)/P(Ai)): ((0.357142857143x0.0768)/0.448)\n",
      "\t Resultado: (P(Ai|x)*P(x)/P(Ai)): 0.448\n",
      "Classificando objeto 2:\n",
      "Key:seguro\n",
      "\t Px: 0.642857142857\n",
      "\t PAix: 0.0438957475995\n",
      "\t PAi: 0.0510204081633\n",
      "\t Conta(P(Ai|x)*P(x)/P(Ai)): ((0.642857142857x0.0438957475995)/0.553086419753)\n",
      "\t Resultado: (P(Ai|x)*P(x)/P(Ai)): 0.553086419753\n",
      "Key:perigoso\n",
      "\t Px: 0.357142857143\n",
      "\t PAix: 0.0288\n",
      "\t PAi: 0.0510204081633\n",
      "\t Conta(P(Ai|x)*P(x)/P(Ai)): ((0.357142857143x0.0288)/0.2016)\n",
      "\t Resultado: (P(Ai|x)*P(x)/P(Ai)): 0.2016\n",
      "Resultado1: seguro\n",
      "Resultado2: seguro\n"
     ]
    }
   ],
   "source": [
    "listaTreino = []\n",
    "listaTreino.append(LabelAndFeatures(\"seguro\",   [\"peludo\", \"marrom\",   \"grande\",  \"dura\"]))\n",
    "listaTreino.append(LabelAndFeatures(\"seguro\",   [\"peludo\", \"verde\",    \"grande\",  \"dura\"]))\n",
    "listaTreino.append(LabelAndFeatures(\"perigoso\", [\"liso\",   \"vermelho\", \"grande\",  \"macia\"]))\n",
    "listaTreino.append(LabelAndFeatures(\"seguro\",   [\"peludo\", \"verde\",    \"grande\",  \"macia\"]))\n",
    "listaTreino.append(LabelAndFeatures(\"seguro\",   [\"peludo\", \"vermelho\", \"pequeno\", \"dura\"]))\n",
    "listaTreino.append(LabelAndFeatures(\"seguro\",   [\"liso\",   \"vermelho\", \"pequeno\", \"dura\"]))\n",
    "listaTreino.append(LabelAndFeatures(\"seguro\",   [\"liso\",   \"marrom\",   \"pequeno\", \"dura\"]))\n",
    "listaTreino.append(LabelAndFeatures(\"perigoso\", [\"peludo\", \"verde\",    \"pequeno\", \"macia\"]))\n",
    "listaTreino.append(LabelAndFeatures(\"perigoso\", [\"liso\",   \"verde\",    \"pequeno\", \"dura\"]))\n",
    "listaTreino.append(LabelAndFeatures(\"seguro\",   [\"peludo\", \"vermelho\", \"grande\",  \"dura\"]))\n",
    "listaTreino.append(LabelAndFeatures(\"seguro\",   [\"liso\",   \"marrom\",   \"grande\",  \"macia\"]))\n",
    "listaTreino.append(LabelAndFeatures(\"perigoso\", [\"liso\",   \"verde\",    \"pequeno\", \"macia\"]))\n",
    "listaTreino.append(LabelAndFeatures(\"seguro\",   [\"peludo\", \"vermelho\", \"pequeno\", \"macia\"]))\n",
    "listaTreino.append(LabelAndFeatures(\"perigoso\", [\"liso\", \"vermelho\", \"grande\", \"dura\"]))\n",
    "\n",
    "objetoDesconhecido1 = LabelAndFeatures (\"\", [\"liso\", \"vermelho\", \"pequeno\", \"dura\"])\n",
    "objetoDesconhecido2 = LabelAndFeatures (\"\", [\"peludo\", \"verde\", \"pequeno\", \"dura\"])\n",
    "\n",
    "nb = NaiveBayes()\n",
    "nb.Treino(listaTreino)\n",
    "\n",
    "print \"Classificando objeto 1:\"\n",
    "retorno1 = nb.Predicao(objetoDesconhecido1,True)\n",
    "\n",
    "print \"Classificando objeto 2:\"\n",
    "retorno2 = nb.Predicao(objetoDesconhecido2,True)\n",
    "\n",
    "print \"Resultado1: \" + str(retorno1)\n",
    "print \"Resultado2: \" + str(retorno2)"
   ]
  }
 ],
 "metadata": {
  "kernelspec": {
   "display_name": "Python 2",
   "language": "python",
   "name": "python2"
  },
  "language_info": {
   "codemirror_mode": {
    "name": "ipython",
    "version": 2
   },
   "file_extension": ".py",
   "mimetype": "text/x-python",
   "name": "python",
   "nbconvert_exporter": "python",
   "pygments_lexer": "ipython2",
   "version": "2.7.6"
  }
 },
 "nbformat": 4,
 "nbformat_minor": 0
}
